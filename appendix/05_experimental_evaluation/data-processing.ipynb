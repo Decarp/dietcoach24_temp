{
 "cells": [
  {
   "cell_type": "markdown",
   "metadata": {},
   "source": "# Data Processing"
  },
  {
   "cell_type": "markdown",
   "metadata": {},
   "source": [
    "## Import necessary libraries"
   ]
  },
  {
   "cell_type": "code",
   "metadata": {},
   "source": [
    "import pandas as pd\n",
    "pd.set_option(\"display.max_colwidth\", None)\n",
    "pd.set_option('display.max_rows', None)\n",
    "pd.set_option('display.max_columns', None)\n",
    "pd.DataFrame.head = lambda self, n=3: self.iloc[:n]"
   ],
   "outputs": [],
   "execution_count": null
  },
  {
   "cell_type": "markdown",
   "metadata": {},
   "source": "## Read survey csv files"
  },
  {
   "metadata": {},
   "cell_type": "code",
   "source": [
    "survey_1 = pd.read_excel('data/responses_initial_session.xlsx')\n",
    "survey_2 = pd.read_excel('data/responses_follow-up_session.xlsx')"
   ],
   "outputs": [],
   "execution_count": null
  },
  {
   "metadata": {},
   "cell_type": "code",
   "source": "survey_1",
   "outputs": [],
   "execution_count": null
  },
  {
   "metadata": {},
   "cell_type": "code",
   "source": "survey_2",
   "outputs": [],
   "execution_count": null
  },
  {
   "metadata": {},
   "cell_type": "markdown",
   "source": "## Perform initial cleaning"
  },
  {
   "cell_type": "code",
   "metadata": {},
   "source": [
    "# Drop columns \"Email\", \"Name\", \"Last modified time\"\n",
    "survey_1 = survey_1.drop(columns=['Email', 'Name', 'Last modified time'])\n",
    "survey_2 = survey_2.drop(columns=['Email', 'Name', 'Last modified time'])\n",
    "\n",
    "# Rename \"Student-E-Mail\" to \"Email\"\n",
    "survey_1 = survey_1.rename(columns={'Studien-E-Mail': 'Email', 'ID': 'Survey ID'})\n",
    "survey_2 = survey_2.rename(columns={'Studien-E-Mail': 'Email', 'ID': 'Survey ID'})\n",
    "\n",
    "# Remove first entry of survey 1 as it was from a test user\n",
    "survey_1 = survey_1.iloc[1:]\n",
    "\n",
    "# Remove entries with email \"test.1@insel.ch\" as there were two dietitians who accidentally used the same email\n",
    "survey_2 = survey_2[survey_2['Email'] != 'test.1@insel.ch']\n",
    "\n",
    "# Remove entry where email includes \"cher@bfh.ch\" as it was from a test user\n",
    "survey_1 = survey_1[~survey_1['Email'].str.contains(\"cher@bfh.ch\", na=False)]\n",
    "\n",
    "# Fix email of participant with \"@inselch\" to \"@insel.ch\"\n",
    "survey_1['Email'] = survey_1['Email'].apply(lambda x: x.replace('@inselch', '@insel.ch'))\n",
    "\n",
    "# Fix email of participant with \"di@hotmail.com\" to \"di@jonco-erb.ch\"\n",
    "survey_1['Email'] = survey_1['Email'].apply(lambda x: x.replace('di@hotmail.com', 'di@jonco-erb.ch'))\n",
    "survey_2['Email'] = survey_2['Email'].apply(lambda x: x.replace('di@hotmail.com', 'di@jonco-erb.ch'))\n",
    "\n",
    "# Fix email of participant with \"er@gmail.com\" to \"er@kssg.ch\"\n",
    "survey_1['Email'] = survey_1['Email'].apply(lambda x: x.replace('er@gmail.com', 'er@kssg.ch'))\n",
    "\n",
    "# Fix email of participant with \"leuenberger1@kssg.ch\" to \".leuenberger1@kssg.ch\"\n",
    "survey_2['Email'] = survey_2['Email'].apply(lambda x: x.replace('leuenberger1@kssg.ch', '.leuenberger1@kssg.ch'))\n",
    "\n",
    "# Convert \"Arbeitserfahrung als ErnährungsberaterIn (in Jahren)\" col to int\n",
    "survey_1['Arbeitserfahrung als ErnährungsberaterIn (in Jahren)'] = survey_1['Arbeitserfahrung als ErnährungsberaterIn (in Jahren)'].astype(int)\n",
    "survey_2['Arbeitserfahrung als ErnährungsberaterIn (in Jahren)'] = survey_2['Arbeitserfahrung als ErnährungsberaterIn (in Jahren)'].astype(int)\n",
    "\n",
    "# Add survey identifier\n",
    "survey_1['survey'] = 'Initial Session'\n",
    "survey_2['survey'] = 'Follow-up Session'\n",
    "\n",
    "# Group study programs\n",
    "survey_1['study_group'] = 'NA'\n",
    "\n",
    "survey_1_bern_completion_time_from = \"2024-08-29 12:53:02\"\n",
    "survey_1_bern_completion_time_to = \"2024-08-29 13:04:50\"\n",
    "survey_1.loc[(survey_1['Completion time'] >= survey_1_bern_completion_time_from) & (survey_1['Completion time'] <= survey_1_bern_completion_time_to), 'study_group'] = 'IS Bern'\n",
    "\n",
    "survey_1_baden_completion_time_from = \"2024-10-29 11:34:21\"\n",
    "survey_1_baden_completion_time_to = \"2024-10-29 11:39:27\"\n",
    "survey_1.loc[(survey_1['Completion time'] >= survey_1_baden_completion_time_from) & (survey_1['Completion time'] <= survey_1_baden_completion_time_to), 'study_group'] = 'KS Baden'\n",
    "\n",
    "survey_1_stgallen_completion_time_from = \"2024-11-11 13:28:00\"\n",
    "survey_1_stgallen_completion_time_to = \"2024-11-11 13:35:24\"\n",
    "survey_1.loc[(survey_1['Completion time'] >= survey_1_stgallen_completion_time_from) & (survey_1['Completion time'] <= survey_1_stgallen_completion_time_to), 'study_group'] = 'KS St. Gallen'\n",
    "\n",
    "survey_1_fhbern_completion_time_from = \"2024-11-12 13:38:09\"\n",
    "survey_1_fhbern_completion_time_to = \"2024-11-12 13:58:31\"\n",
    "survey_1.loc[(survey_1['Completion time'] >= survey_1_fhbern_completion_time_from) & (survey_1['Completion time'] <= survey_1_fhbern_completion_time_to), 'study_group'] = 'FH Bern'\n",
    "\n",
    "survey_2['study_group'] = 'NA'\n",
    "\n",
    "survey_2_bern_completion_time_from = \"2024-09-05 12:59:12\"\n",
    "survey_2_bern_completion_time_to = \"2024-09-05 13:01:44\"\n",
    "survey_2.loc[(survey_2['Completion time'] >= survey_2_bern_completion_time_from) & (survey_2['Completion time'] <= survey_2_bern_completion_time_to), 'study_group'] = 'IS Bern'\n",
    "\n",
    "survey_2_baden_completion_time_from = \"2024-10-29 11:52:44\"\n",
    "survey_2_baden_completion_time_to = \"2024-10-29 11:59:52\"\n",
    "survey_2.loc[(survey_2['Completion time'] >= survey_2_baden_completion_time_from) & (survey_2['Completion time'] <= survey_2_baden_completion_time_to), 'study_group'] = 'KS Baden'\n",
    "\n",
    "survey_2_stgallen_completion_time_from = \"2024-11-11 13:38:15\"\n",
    "survey_2_stgallen_completion_time_to = \"2024-11-11 13:59:35\"\n",
    "survey_2.loc[(survey_2['Completion time'] >= survey_2_stgallen_completion_time_from) & (survey_2['Completion time'] <= survey_2_stgallen_completion_time_to), 'study_group'] = 'KS St. Gallen'\n",
    "\n",
    "survey_2_fhbern_completion_time_from = \"2024-11-12 14:02:48\"\n",
    "survey_2_fhbern_completion_time_to = \"2024-11-12 14:23:18\"\n",
    "survey_2.loc[(survey_2['Completion time'] >= survey_2_fhbern_completion_time_from) & (survey_2['Completion time'] <= survey_2_fhbern_completion_time_to), 'study_group'] = 'FH Bern'\n",
    "\n",
    "# reorder cols\n",
    "first_cols = ['survey', 'study_group']\n",
    "survey_1 = survey_1[first_cols + [col for col in survey_1.columns if col not in first_cols]]\n",
    "survey_2 = survey_2[first_cols + [col for col in survey_2.columns if col not in first_cols]]"
   ],
   "outputs": [],
   "execution_count": null
  },
  {
   "cell_type": "code",
   "metadata": {},
   "source": "survey_1",
   "outputs": [],
   "execution_count": null
  },
  {
   "cell_type": "code",
   "metadata": {},
   "source": "survey_2",
   "outputs": [],
   "execution_count": null
  },
  {
   "metadata": {},
   "cell_type": "markdown",
   "source": "## Add \"users\" data from app"
  },
  {
   "metadata": {},
   "cell_type": "code",
   "source": [
    "df_users = pd.read_csv('data/users.csv')\n",
    "df_users"
   ],
   "outputs": [],
   "execution_count": null
  },
  {
   "metadata": {},
   "cell_type": "code",
   "source": [
    "# select relevant columns\n",
    "cols = ['email', 'id']\n",
    "df_users = df_users[cols]\n",
    "\n",
    "# rename cols\n",
    "df_users = df_users.rename(columns={'email': 'Email', 'id': 'dietitian_id'})\n",
    "\n",
    "# merge with survey_1 and survey_2 on \"Email\"\n",
    "survey_1 = survey_1.merge(df_users, on='Email', how='left')\n",
    "survey_2 = survey_2.merge(df_users, on='Email', how='left')\n",
    "\n",
    "# convert to int\n",
    "survey_1['dietitian_id'] = survey_1['dietitian_id'].fillna(0).astype(int)\n",
    "survey_2['dietitian_id'] = survey_2['dietitian_id'].fillna(0).astype(int)\n",
    "\n",
    "# reorder cols\n",
    "first_cols += ['dietitian_id']\n",
    "survey_1 = survey_1[first_cols + [col for col in survey_1.columns if col not in first_cols]]\n",
    "survey_2 = survey_2[first_cols + [col for col in survey_2.columns if col not in first_cols]]"
   ],
   "outputs": [],
   "execution_count": null
  },
  {
   "metadata": {},
   "cell_type": "code",
   "source": "survey_1",
   "outputs": [],
   "execution_count": null
  },
  {
   "metadata": {},
   "cell_type": "code",
   "source": "survey_2",
   "outputs": [],
   "execution_count": null
  },
  {
   "metadata": {},
   "cell_type": "markdown",
   "source": "## Add \"recommendation_sessions\" data from app"
  },
  {
   "metadata": {},
   "cell_type": "code",
   "source": [
    "df_recommendation_sessions = pd.read_csv('data/recommendation_sessions.csv')\n",
    "df_recommendation_sessions"
   ],
   "outputs": [],
   "execution_count": null
  },
  {
   "metadata": {},
   "cell_type": "code",
   "source": [
    "# select relevant columns\n",
    "cols = ['id', 'dietician_id', 'user_id', 'session_index', 'patient_note', 'personal_note']\n",
    "df_recommendation_sessions = df_recommendation_sessions[cols]\n",
    "\n",
    "# rename cols\n",
    "df_recommendation_sessions = df_recommendation_sessions.rename(columns={'id': 'recommendation_session_id', 'dietician_id': 'dietitian_id'})\n",
    "\n",
    "# only keep rows with \"session_index\" == 1 or 2\n",
    "df_recommendation_sessions_1 = df_recommendation_sessions[df_recommendation_sessions['session_index'] == 1]\n",
    "df_recommendation_sessions_2 = df_recommendation_sessions[df_recommendation_sessions['session_index'] == 2]\n",
    "\n",
    "# merge with survey_1 and survey_2 on \"dietitian_id\"\n",
    "survey_1 = survey_1.merge(df_recommendation_sessions_1, on='dietitian_id', how='left')\n",
    "survey_2 = survey_2.merge(df_recommendation_sessions_2, on='dietitian_id', how='left')\n",
    "\n",
    "# convert cols to int\n",
    "survey_1['user_id'] = survey_1['user_id'].fillna(0).astype(int)\n",
    "survey_2['user_id'] = survey_2['user_id'].fillna(0).astype(int)\n",
    "survey_1['session_index'] = survey_1['session_index'].fillna(0).astype(int)\n",
    "survey_2['session_index'] = survey_2['session_index'].fillna(0).astype(int)\n",
    "survey_1['recommendation_session_id'] = survey_1['recommendation_session_id'].fillna(0).astype(int)\n",
    "survey_2['recommendation_session_id'] = survey_2['recommendation_session_id'].fillna(0).astype(int)\n",
    "\n",
    "# add patient label based on mapping: user_id 1 is \"IDEAL\", user_id 2 is \"MEDIAN\", user_id 3 is \"MINIMUM\"\n",
    "survey_1['patient_label'] = survey_1['user_id'].apply(lambda x: 'IDEAL' if x == 1 else 'MEDIAN' if x == 2 else 'MINIMUM')\n",
    "survey_2['patient_label'] = survey_2['user_id'].apply(lambda x: 'IDEAL' if x == 1 else 'MEDIAN' if x == 2 else 'MINIMUM')\n",
    "\n",
    "# reorder cols\n",
    "first_cols += ['user_id', 'patient_label', 'session_index', 'recommendation_session_id', 'patient_note', 'personal_note']\n",
    "survey_1 = survey_1[first_cols + [col for col in survey_1.columns if col not in first_cols]]\n",
    "survey_2 = survey_2[first_cols + [col for col in survey_2.columns if col not in first_cols]]"
   ],
   "outputs": [],
   "execution_count": null
  },
  {
   "metadata": {},
   "cell_type": "code",
   "source": "survey_1",
   "outputs": [],
   "execution_count": null
  },
  {
   "metadata": {},
   "cell_type": "code",
   "source": "survey_2",
   "outputs": [],
   "execution_count": null
  },
  {
   "metadata": {},
   "cell_type": "markdown",
   "source": "## Add \"recommendations\" data from app"
  },
  {
   "metadata": {},
   "cell_type": "code",
   "source": [
    "df_recommendations = pd.read_csv('data/recommendations.csv')\n",
    "df_recommendations"
   ],
   "outputs": [],
   "execution_count": null
  },
  {
   "metadata": {},
   "cell_type": "code",
   "source": [
    "# select relevant columns\n",
    "cols = ['session_id', 'recommendation_index', 'variant', 'mode', 'nutrient', 'category', 'text', 'basket_ids', 'bad_products', 'suggestions', 'notes']\n",
    "df_recommendations = df_recommendations[cols]\n",
    "\n",
    "# rename cols\n",
    "df_recommendations = df_recommendations.rename(columns={'session_id': 'recommendation_session_id'})\n",
    "\n",
    "# merge with survey_1 and survey_2 on \"recommendation_session_id\"\n",
    "survey_1 = survey_1.merge(df_recommendations, on='recommendation_session_id', how='left')\n",
    "survey_2 = survey_2.merge(df_recommendations, on='recommendation_session_id', how='left')\n",
    "\n",
    "# add \"num_recommendations\" column directly to survey_1 and survey_2 using merged information\n",
    "survey_1['num_recommendations'] = survey_1.groupby(['dietitian_id', 'user_id', 'session_index'])['mode'].transform(lambda x: x.notna().sum())\n",
    "survey_2['num_recommendations'] = survey_2.groupby(['dietitian_id', 'user_id', 'session_index'])['mode'].transform(lambda x: x.notna().sum())\n",
    "\n",
    "# fill NaN in num_recommendations with 0\n",
    "survey_1['num_recommendations'] = survey_1['num_recommendations'].fillna(0).astype(int)\n",
    "survey_2['num_recommendations'] = survey_2['num_recommendations'].fillna(0).astype(int)\n",
    "\n",
    "# reorder cols\n",
    "first_cols += ['num_recommendations', 'recommendation_index', 'variant', 'mode', 'nutrient', 'category', 'text', 'basket_ids', 'bad_products', 'suggestions', 'notes']\n",
    "survey_1 = survey_1[first_cols + [col for col in survey_1.columns if col not in first_cols]]\n",
    "survey_2 = survey_2[first_cols + [col for col in survey_2.columns if col not in first_cols]]"
   ],
   "outputs": [],
   "execution_count": null
  },
  {
   "metadata": {},
   "cell_type": "code",
   "source": "survey_1",
   "outputs": [],
   "execution_count": null
  },
  {
   "metadata": {},
   "cell_type": "code",
   "source": "survey_2",
   "outputs": [],
   "execution_count": null
  },
  {
   "metadata": {},
   "cell_type": "markdown",
   "source": "## Add comparison columns between survey_1 and survey_2"
  },
  {
   "metadata": {},
   "cell_type": "code",
   "source": [
    "# add \"dietitian_participated_in_both_sessions\" column\n",
    "survey_1['dietitian_participated_in_both_sessions'] = survey_1['dietitian_id'].isin(survey_2['dietitian_id'])\n",
    "survey_2['dietitian_participated_in_both_sessions'] = survey_2['dietitian_id'].isin(survey_1['dietitian_id'])\n",
    "\n",
    "# reorder cols\n",
    "first_cols.insert(first_cols.index('user_id') + 1, 'dietitian_participated_in_both_sessions')\n",
    "survey_1 = survey_1[first_cols + [col for col in survey_1.columns if col not in first_cols]]\n",
    "survey_2 = survey_2[first_cols + [col for col in survey_2.columns if col not in first_cols]]"
   ],
   "outputs": [],
   "execution_count": null
  },
  {
   "metadata": {},
   "cell_type": "code",
   "source": "survey_1",
   "outputs": [],
   "execution_count": null
  },
  {
   "metadata": {},
   "cell_type": "code",
   "source": "survey_2",
   "outputs": [],
   "execution_count": null
  },
  {
   "metadata": {},
   "cell_type": "markdown",
   "source": "## Map Likert columns to numerical values"
  },
  {
   "metadata": {},
   "cell_type": "code",
   "source": [
    "# inspect column indices\n",
    "for idx, column in enumerate(survey_1.columns):\n",
    "    print(f\"{idx}: {column}\")"
   ],
   "outputs": [],
   "execution_count": null
  },
  {
   "metadata": {},
   "cell_type": "code",
   "source": [
    "for idx, column in enumerate(survey_2.columns):\n",
    "    print(f\"{idx}: {column}\")"
   ],
   "outputs": [],
   "execution_count": null
  },
  {
   "metadata": {},
   "cell_type": "code",
   "source": [
    "# define likert scale value mappings\n",
    "value_mappings = {\n",
    "    \"5_point\": {\n",
    "        \"Stimme überhaupt nicht zu\": 1, \n",
    "        \"Stimme nicht zu\": 2, \n",
    "        \"Weder noch\": 3, \n",
    "        \"Stimme zu\": 4, \n",
    "        \"Stimme völlig zu\": 5\n",
    "    },\n",
    "    \"7_point\": {\n",
    "        \"Stimme überhaupt nicht zu\": 1, \n",
    "        \"Stimme nicht zu\": 2, \n",
    "        \"Stimme eher nicht zu\": 3, \n",
    "        \"Weder noch\": 4, \n",
    "        \"Stimme eher zu\": 5, \n",
    "        \"Stimme zu\": 6, \n",
    "        \"Stimme völlig zu\": 7\n",
    "    }\n",
    "}\n",
    "\n",
    "# define column mappings\n",
    "column_index_mappings = {\n",
    "    \"survey\": {\"index_range\": (0, 0)},\n",
    "    \"study_group\": {\"index_range\": (1, 1)},\n",
    "    \"app_data\": {\"index_range\": (2, 20)},\n",
    "    \"survey_meta_data\": {\"index_range\": (21, 23)},\n",
    "    \"demographics\": {\"index_range\": (24, 27)},\n",
    "    \"experience_with_software\": {\"index_range\": (28, 28), \"value_mapping\": \"5_point\"},\n",
    "    \"UTAUT2\": {\n",
    "        \"index_range\": (29, 44), \"value_mapping\": \"7_point\",\n",
    "        \"subcategories\": {\n",
    "            \"Performance Expectancy\": (29, 31),\n",
    "            \"Effort Expectancy\": (32, 35),\n",
    "            \"Facilitating Conditions\": (36, 38),\n",
    "            \"Behavioral Intention\": (39, 41),\n",
    "            \"Hedonistic Motivation\": (42, 44)\n",
    "        }\n",
    "    },\n",
    "    \"SUS\": {\"index_range\": (45, 54), \"value_mapping\": \"5_point\"},\n",
    "    \"patient_questions\": {\n",
    "        \"index_range\": (55, 65),\n",
    "        \"subcategories\": {\n",
    "            \"Agreement Statements\": (55, 57, \"5_point\"),\n",
    "            \"Patient Benefit Estimate\": (58, 58),\n",
    "            \"Influencing Factors\": (59, 64, \"5_point\"),\n",
    "            \"Other Factors\": (65, 65)\n",
    "        }\n",
    "    },\n",
    "    \"willingness_to_pay\": {\n",
    "        \"index_range\": (66, 69),\n",
    "        \"subcategories\": {\n",
    "            \"Agreement Statements\": (66, 68, \"5_point\"),\n",
    "            \"Fair Price Estimate\": (69, 69)\n",
    "        }\n",
    "    },\n",
    "    \"further_questions\": {\"index_range\": (70, 72)}\n",
    "}\n",
    "\n",
    "# apply value mappings\n",
    "def apply_value_mappings(survey_df, column_index_mappings):\n",
    "    for section, details in column_index_mappings.items():\n",
    "        # adjust end index by +1 to include the last column\n",
    "        start_idx, end_idx = details[\"index_range\"]\n",
    "        column_names = survey_df.columns[start_idx:end_idx+1]\n",
    "        \n",
    "        # get main section value mapping, if defined\n",
    "        value_mapping = value_mappings.get(details.get(\"value_mapping\"))\n",
    "        \n",
    "        # apply main section mapping if available\n",
    "        if value_mapping:\n",
    "            survey_df[column_names] = survey_df[column_names].apply(lambda col: col.map(value_mapping))\n",
    "\n",
    "        # apply subcategory mappings, if they exist\n",
    "        for sub, sub_details in details.get(\"subcategories\", {}).items():\n",
    "            sub_start_idx, sub_end_idx = sub_details[:2]\n",
    "            sub_column_names = survey_df.columns[sub_start_idx:sub_end_idx+1]\n",
    "            \n",
    "            # use subcategory-specific value mapping if provided\n",
    "            sub_value_mapping = value_mappings.get(sub_details[2]) if len(sub_details) > 2 else None\n",
    "            \n",
    "            if sub_value_mapping:\n",
    "                survey_df[sub_column_names] = survey_df[sub_column_names].apply(lambda col: col.map(sub_value_mapping))\n",
    "\n",
    "apply_value_mappings(survey_1, column_index_mappings)\n",
    "apply_value_mappings(survey_2, column_index_mappings)"
   ],
   "outputs": [],
   "execution_count": null
  },
  {
   "metadata": {},
   "cell_type": "code",
   "source": "survey_1",
   "outputs": [],
   "execution_count": null
  },
  {
   "metadata": {},
   "cell_type": "code",
   "source": "survey_2",
   "outputs": [],
   "execution_count": null
  },
  {
   "metadata": {},
   "cell_type": "markdown",
   "source": "## Export cleaned data"
  },
  {
   "metadata": {},
   "cell_type": "code",
   "source": [
    "# remove Email cols for confidentiality\n",
    "survey_1 = survey_1.drop(columns=['Email'])\n",
    "survey_2 = survey_2.drop(columns=['Email'])"
   ],
   "outputs": [],
   "execution_count": null
  },
  {
   "metadata": {},
   "cell_type": "code",
   "source": [
    "survey_1.to_csv('data/survey_1_cleaned.csv', index=False)\n",
    "survey_2.to_csv('data/survey_2_cleaned.csv', index=False)"
   ],
   "outputs": [],
   "execution_count": null
  }
 ],
 "metadata": {
  "kernelspec": {
   "display_name": ".venv",
   "language": "python",
   "name": "python3"
  },
  "language_info": {
   "codemirror_mode": {
    "name": "ipython",
    "version": 3
   },
   "file_extension": ".py",
   "mimetype": "text/x-python",
   "name": "python",
   "nbconvert_exporter": "python",
   "pygments_lexer": "ipython3",
   "version": "3.11.9"
  }
 },
 "nbformat": 4,
 "nbformat_minor": 2
}
